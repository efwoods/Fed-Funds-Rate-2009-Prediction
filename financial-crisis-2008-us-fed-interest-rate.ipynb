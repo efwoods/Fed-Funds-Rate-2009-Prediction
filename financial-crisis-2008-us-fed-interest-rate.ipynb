{
 "cells": [
  {
   "cell_type": "markdown",
   "id": "8fe43e00",
   "metadata": {
    "papermill": {
     "duration": 0.018698,
     "end_time": "2022-01-13T14:08:24.743852",
     "exception": false,
     "start_time": "2022-01-13T14:08:24.725154",
     "status": "completed"
    },
    "tags": []
   },
   "source": [
    "![Alt](https://i.ytimg.com/vi/-mqs0ra8O2U/maxresdefault.jpg)"
   ]
  },
  {
   "cell_type": "markdown",
   "id": "64543e31",
   "metadata": {
    "papermill": {
     "duration": 0.016519,
     "end_time": "2022-01-13T14:08:24.778261",
     "exception": false,
     "start_time": "2022-01-13T14:08:24.761742",
     "status": "completed"
    },
    "tags": []
   },
   "source": [
    "# Preface\n",
    "Data size is not so big, but it is normally what macroeconomy data looks like, hope I can generate some insight from it.<br>\n",
    "\n",
    "Inro of each topic:\n",
    "* Remove null data\n",
    "* Convert date format to Year-Month-Day\n",
    "* Line Chart in \"seaborn\"\n",
    "* Line chart in plotly\n",
    "* Stories during 2008 financial crisis"
   ]
  },
  {
   "cell_type": "markdown",
   "id": "f63f3c45",
   "metadata": {
    "papermill": {
     "duration": 0.016438,
     "end_time": "2022-01-13T14:08:24.812348",
     "exception": false,
     "start_time": "2022-01-13T14:08:24.795910",
     "status": "completed"
    },
    "tags": []
   },
   "source": [
    "Import needed parckage, and see what we have in each folder."
   ]
  },
  {
   "cell_type": "code",
   "execution_count": 1,
   "id": "cf39f0e6",
   "metadata": {
    "execution": {
     "iopub.execute_input": "2022-01-13T14:08:24.850384Z",
     "iopub.status.busy": "2022-01-13T14:08:24.849108Z",
     "iopub.status.idle": "2022-01-13T14:08:24.872241Z",
     "shell.execute_reply": "2022-01-13T14:08:24.872800Z",
     "shell.execute_reply.started": "2022-01-13T14:07:05.499622Z"
    },
    "papermill": {
     "duration": 0.044022,
     "end_time": "2022-01-13T14:08:24.873098",
     "exception": false,
     "start_time": "2022-01-13T14:08:24.829076",
     "status": "completed"
    },
    "tags": []
   },
   "outputs": [],
   "source": [
    "import numpy as np # linear algebra\n",
    "import pandas as pd # data processing, CSV file I/O (e.g. pd.read_csv)\n",
    "\n",
    "import os\n",
    "for dirname, _, filenames in os.walk('/kaggle/input'):\n",
    "    for filename in filenames:\n",
    "        print(os.path.join(dirname, filename))"
   ]
  },
  {
   "cell_type": "markdown",
   "id": "48f44c6e",
   "metadata": {
    "papermill": {
     "duration": 0.016744,
     "end_time": "2022-01-13T14:08:24.907163",
     "exception": false,
     "start_time": "2022-01-13T14:08:24.890419",
     "status": "completed"
    },
    "tags": []
   },
   "source": [
    "# Remove null data\n",
    "First, I would like to check the first 5 rows and the last 5 rows, but I only saw null for those raws. It makes me suspecting that is there only null data regarding federal fund rate in this data set?"
   ]
  },
  {
   "cell_type": "code",
   "execution_count": 2,
   "id": "c0b8a0e6",
   "metadata": {
    "execution": {
     "iopub.execute_input": "2022-01-13T14:08:24.945219Z",
     "iopub.status.busy": "2022-01-13T14:08:24.944347Z",
     "iopub.status.idle": "2022-01-13T14:08:24.983408Z",
     "shell.execute_reply": "2022-01-13T14:08:24.984248Z",
     "shell.execute_reply.started": "2022-01-13T14:07:05.509585Z"
    },
    "papermill": {
     "duration": 0.059734,
     "end_time": "2022-01-13T14:08:24.984491",
     "exception": false,
     "start_time": "2022-01-13T14:08:24.924757",
     "status": "completed"
    },
    "tags": []
   },
   "outputs": [
    {
     "ename": "FileNotFoundError",
     "evalue": "[Errno 2] No such file or directory: '/kaggle/input/interest-rates/index.csv'",
     "output_type": "error",
     "traceback": [
      "\u001b[0;31m---------------------------------------------------------------------------\u001b[0m",
      "\u001b[0;31mFileNotFoundError\u001b[0m                         Traceback (most recent call last)",
      "Cell \u001b[0;32mIn [2], line 1\u001b[0m\n\u001b[0;32m----> 1\u001b[0m data \u001b[39m=\u001b[39m pd\u001b[39m.\u001b[39;49mread_csv(\u001b[39m'\u001b[39;49m\u001b[39m/kaggle/input/interest-rates/index.csv\u001b[39;49m\u001b[39m'\u001b[39;49m)\u001b[39m.\u001b[39mfillna(method\u001b[39m=\u001b[39m\u001b[39m'\u001b[39m\u001b[39mffill\u001b[39m\u001b[39m'\u001b[39m)\n\u001b[1;32m      2\u001b[0m data\u001b[39m.\u001b[39mhead()\n",
      "File \u001b[0;32m/opt/homebrew/lib/python3.10/site-packages/pandas/util/_decorators.py:311\u001b[0m, in \u001b[0;36mdeprecate_nonkeyword_arguments.<locals>.decorate.<locals>.wrapper\u001b[0;34m(*args, **kwargs)\u001b[0m\n\u001b[1;32m    305\u001b[0m \u001b[39mif\u001b[39;00m \u001b[39mlen\u001b[39m(args) \u001b[39m>\u001b[39m num_allow_args:\n\u001b[1;32m    306\u001b[0m     warnings\u001b[39m.\u001b[39mwarn(\n\u001b[1;32m    307\u001b[0m         msg\u001b[39m.\u001b[39mformat(arguments\u001b[39m=\u001b[39marguments),\n\u001b[1;32m    308\u001b[0m         \u001b[39mFutureWarning\u001b[39;00m,\n\u001b[1;32m    309\u001b[0m         stacklevel\u001b[39m=\u001b[39mstacklevel,\n\u001b[1;32m    310\u001b[0m     )\n\u001b[0;32m--> 311\u001b[0m \u001b[39mreturn\u001b[39;00m func(\u001b[39m*\u001b[39;49margs, \u001b[39m*\u001b[39;49m\u001b[39m*\u001b[39;49mkwargs)\n",
      "File \u001b[0;32m/opt/homebrew/lib/python3.10/site-packages/pandas/io/parsers/readers.py:678\u001b[0m, in \u001b[0;36mread_csv\u001b[0;34m(filepath_or_buffer, sep, delimiter, header, names, index_col, usecols, squeeze, prefix, mangle_dupe_cols, dtype, engine, converters, true_values, false_values, skipinitialspace, skiprows, skipfooter, nrows, na_values, keep_default_na, na_filter, verbose, skip_blank_lines, parse_dates, infer_datetime_format, keep_date_col, date_parser, dayfirst, cache_dates, iterator, chunksize, compression, thousands, decimal, lineterminator, quotechar, quoting, doublequote, escapechar, comment, encoding, encoding_errors, dialect, error_bad_lines, warn_bad_lines, on_bad_lines, delim_whitespace, low_memory, memory_map, float_precision, storage_options)\u001b[0m\n\u001b[1;32m    663\u001b[0m kwds_defaults \u001b[39m=\u001b[39m _refine_defaults_read(\n\u001b[1;32m    664\u001b[0m     dialect,\n\u001b[1;32m    665\u001b[0m     delimiter,\n\u001b[0;32m   (...)\u001b[0m\n\u001b[1;32m    674\u001b[0m     defaults\u001b[39m=\u001b[39m{\u001b[39m\"\u001b[39m\u001b[39mdelimiter\u001b[39m\u001b[39m\"\u001b[39m: \u001b[39m\"\u001b[39m\u001b[39m,\u001b[39m\u001b[39m\"\u001b[39m},\n\u001b[1;32m    675\u001b[0m )\n\u001b[1;32m    676\u001b[0m kwds\u001b[39m.\u001b[39mupdate(kwds_defaults)\n\u001b[0;32m--> 678\u001b[0m \u001b[39mreturn\u001b[39;00m _read(filepath_or_buffer, kwds)\n",
      "File \u001b[0;32m/opt/homebrew/lib/python3.10/site-packages/pandas/io/parsers/readers.py:575\u001b[0m, in \u001b[0;36m_read\u001b[0;34m(filepath_or_buffer, kwds)\u001b[0m\n\u001b[1;32m    572\u001b[0m _validate_names(kwds\u001b[39m.\u001b[39mget(\u001b[39m\"\u001b[39m\u001b[39mnames\u001b[39m\u001b[39m\"\u001b[39m, \u001b[39mNone\u001b[39;00m))\n\u001b[1;32m    574\u001b[0m \u001b[39m# Create the parser.\u001b[39;00m\n\u001b[0;32m--> 575\u001b[0m parser \u001b[39m=\u001b[39m TextFileReader(filepath_or_buffer, \u001b[39m*\u001b[39;49m\u001b[39m*\u001b[39;49mkwds)\n\u001b[1;32m    577\u001b[0m \u001b[39mif\u001b[39;00m chunksize \u001b[39mor\u001b[39;00m iterator:\n\u001b[1;32m    578\u001b[0m     \u001b[39mreturn\u001b[39;00m parser\n",
      "File \u001b[0;32m/opt/homebrew/lib/python3.10/site-packages/pandas/io/parsers/readers.py:932\u001b[0m, in \u001b[0;36mTextFileReader.__init__\u001b[0;34m(self, f, engine, **kwds)\u001b[0m\n\u001b[1;32m    929\u001b[0m     \u001b[39mself\u001b[39m\u001b[39m.\u001b[39moptions[\u001b[39m\"\u001b[39m\u001b[39mhas_index_names\u001b[39m\u001b[39m\"\u001b[39m] \u001b[39m=\u001b[39m kwds[\u001b[39m\"\u001b[39m\u001b[39mhas_index_names\u001b[39m\u001b[39m\"\u001b[39m]\n\u001b[1;32m    931\u001b[0m \u001b[39mself\u001b[39m\u001b[39m.\u001b[39mhandles: IOHandles \u001b[39m|\u001b[39m \u001b[39mNone\u001b[39;00m \u001b[39m=\u001b[39m \u001b[39mNone\u001b[39;00m\n\u001b[0;32m--> 932\u001b[0m \u001b[39mself\u001b[39m\u001b[39m.\u001b[39m_engine \u001b[39m=\u001b[39m \u001b[39mself\u001b[39;49m\u001b[39m.\u001b[39;49m_make_engine(f, \u001b[39mself\u001b[39;49m\u001b[39m.\u001b[39;49mengine)\n",
      "File \u001b[0;32m/opt/homebrew/lib/python3.10/site-packages/pandas/io/parsers/readers.py:1216\u001b[0m, in \u001b[0;36mTextFileReader._make_engine\u001b[0;34m(self, f, engine)\u001b[0m\n\u001b[1;32m   1212\u001b[0m     mode \u001b[39m=\u001b[39m \u001b[39m\"\u001b[39m\u001b[39mrb\u001b[39m\u001b[39m\"\u001b[39m\n\u001b[1;32m   1213\u001b[0m \u001b[39m# error: No overload variant of \"get_handle\" matches argument types\u001b[39;00m\n\u001b[1;32m   1214\u001b[0m \u001b[39m# \"Union[str, PathLike[str], ReadCsvBuffer[bytes], ReadCsvBuffer[str]]\"\u001b[39;00m\n\u001b[1;32m   1215\u001b[0m \u001b[39m# , \"str\", \"bool\", \"Any\", \"Any\", \"Any\", \"Any\", \"Any\"\u001b[39;00m\n\u001b[0;32m-> 1216\u001b[0m \u001b[39mself\u001b[39m\u001b[39m.\u001b[39mhandles \u001b[39m=\u001b[39m get_handle(  \u001b[39m# type: ignore[call-overload]\u001b[39;49;00m\n\u001b[1;32m   1217\u001b[0m     f,\n\u001b[1;32m   1218\u001b[0m     mode,\n\u001b[1;32m   1219\u001b[0m     encoding\u001b[39m=\u001b[39;49m\u001b[39mself\u001b[39;49m\u001b[39m.\u001b[39;49moptions\u001b[39m.\u001b[39;49mget(\u001b[39m\"\u001b[39;49m\u001b[39mencoding\u001b[39;49m\u001b[39m\"\u001b[39;49m, \u001b[39mNone\u001b[39;49;00m),\n\u001b[1;32m   1220\u001b[0m     compression\u001b[39m=\u001b[39;49m\u001b[39mself\u001b[39;49m\u001b[39m.\u001b[39;49moptions\u001b[39m.\u001b[39;49mget(\u001b[39m\"\u001b[39;49m\u001b[39mcompression\u001b[39;49m\u001b[39m\"\u001b[39;49m, \u001b[39mNone\u001b[39;49;00m),\n\u001b[1;32m   1221\u001b[0m     memory_map\u001b[39m=\u001b[39;49m\u001b[39mself\u001b[39;49m\u001b[39m.\u001b[39;49moptions\u001b[39m.\u001b[39;49mget(\u001b[39m\"\u001b[39;49m\u001b[39mmemory_map\u001b[39;49m\u001b[39m\"\u001b[39;49m, \u001b[39mFalse\u001b[39;49;00m),\n\u001b[1;32m   1222\u001b[0m     is_text\u001b[39m=\u001b[39;49mis_text,\n\u001b[1;32m   1223\u001b[0m     errors\u001b[39m=\u001b[39;49m\u001b[39mself\u001b[39;49m\u001b[39m.\u001b[39;49moptions\u001b[39m.\u001b[39;49mget(\u001b[39m\"\u001b[39;49m\u001b[39mencoding_errors\u001b[39;49m\u001b[39m\"\u001b[39;49m, \u001b[39m\"\u001b[39;49m\u001b[39mstrict\u001b[39;49m\u001b[39m\"\u001b[39;49m),\n\u001b[1;32m   1224\u001b[0m     storage_options\u001b[39m=\u001b[39;49m\u001b[39mself\u001b[39;49m\u001b[39m.\u001b[39;49moptions\u001b[39m.\u001b[39;49mget(\u001b[39m\"\u001b[39;49m\u001b[39mstorage_options\u001b[39;49m\u001b[39m\"\u001b[39;49m, \u001b[39mNone\u001b[39;49;00m),\n\u001b[1;32m   1225\u001b[0m )\n\u001b[1;32m   1226\u001b[0m \u001b[39massert\u001b[39;00m \u001b[39mself\u001b[39m\u001b[39m.\u001b[39mhandles \u001b[39mis\u001b[39;00m \u001b[39mnot\u001b[39;00m \u001b[39mNone\u001b[39;00m\n\u001b[1;32m   1227\u001b[0m f \u001b[39m=\u001b[39m \u001b[39mself\u001b[39m\u001b[39m.\u001b[39mhandles\u001b[39m.\u001b[39mhandle\n",
      "File \u001b[0;32m/opt/homebrew/lib/python3.10/site-packages/pandas/io/common.py:786\u001b[0m, in \u001b[0;36mget_handle\u001b[0;34m(path_or_buf, mode, encoding, compression, memory_map, is_text, errors, storage_options)\u001b[0m\n\u001b[1;32m    781\u001b[0m \u001b[39melif\u001b[39;00m \u001b[39misinstance\u001b[39m(handle, \u001b[39mstr\u001b[39m):\n\u001b[1;32m    782\u001b[0m     \u001b[39m# Check whether the filename is to be opened in binary mode.\u001b[39;00m\n\u001b[1;32m    783\u001b[0m     \u001b[39m# Binary mode does not support 'encoding' and 'newline'.\u001b[39;00m\n\u001b[1;32m    784\u001b[0m     \u001b[39mif\u001b[39;00m ioargs\u001b[39m.\u001b[39mencoding \u001b[39mand\u001b[39;00m \u001b[39m\"\u001b[39m\u001b[39mb\u001b[39m\u001b[39m\"\u001b[39m \u001b[39mnot\u001b[39;00m \u001b[39min\u001b[39;00m ioargs\u001b[39m.\u001b[39mmode:\n\u001b[1;32m    785\u001b[0m         \u001b[39m# Encoding\u001b[39;00m\n\u001b[0;32m--> 786\u001b[0m         handle \u001b[39m=\u001b[39m \u001b[39mopen\u001b[39;49m(\n\u001b[1;32m    787\u001b[0m             handle,\n\u001b[1;32m    788\u001b[0m             ioargs\u001b[39m.\u001b[39;49mmode,\n\u001b[1;32m    789\u001b[0m             encoding\u001b[39m=\u001b[39;49mioargs\u001b[39m.\u001b[39;49mencoding,\n\u001b[1;32m    790\u001b[0m             errors\u001b[39m=\u001b[39;49merrors,\n\u001b[1;32m    791\u001b[0m             newline\u001b[39m=\u001b[39;49m\u001b[39m\"\u001b[39;49m\u001b[39m\"\u001b[39;49m,\n\u001b[1;32m    792\u001b[0m         )\n\u001b[1;32m    793\u001b[0m     \u001b[39melse\u001b[39;00m:\n\u001b[1;32m    794\u001b[0m         \u001b[39m# Binary mode\u001b[39;00m\n\u001b[1;32m    795\u001b[0m         handle \u001b[39m=\u001b[39m \u001b[39mopen\u001b[39m(handle, ioargs\u001b[39m.\u001b[39mmode)\n",
      "\u001b[0;31mFileNotFoundError\u001b[0m: [Errno 2] No such file or directory: '/kaggle/input/interest-rates/index.csv'"
     ]
    }
   ],
   "source": [
    "data = pd.read_csv('/kaggle/input/interest-rates/index.csv').fillna(method='ffill')\n",
    "data.head()"
   ]
  },
  {
   "cell_type": "code",
   "execution_count": 3,
   "id": "bbd3ea8d",
   "metadata": {
    "execution": {
     "iopub.execute_input": "2022-01-13T14:08:25.030363Z",
     "iopub.status.busy": "2022-01-13T14:08:25.029437Z",
     "iopub.status.idle": "2022-01-13T14:08:25.046589Z",
     "shell.execute_reply": "2022-01-13T14:08:25.047211Z",
     "shell.execute_reply.started": "2022-01-13T14:07:05.536373Z"
    },
    "papermill": {
     "duration": 0.040253,
     "end_time": "2022-01-13T14:08:25.047386",
     "exception": false,
     "start_time": "2022-01-13T14:08:25.007133",
     "status": "completed"
    },
    "tags": []
   },
   "outputs": [
    {
     "data": {
      "text/html": [
       "<div>\n",
       "<style scoped>\n",
       "    .dataframe tbody tr th:only-of-type {\n",
       "        vertical-align: middle;\n",
       "    }\n",
       "\n",
       "    .dataframe tbody tr th {\n",
       "        vertical-align: top;\n",
       "    }\n",
       "\n",
       "    .dataframe thead th {\n",
       "        text-align: right;\n",
       "    }\n",
       "</style>\n",
       "<table border=\"1\" class=\"dataframe\">\n",
       "  <thead>\n",
       "    <tr style=\"text-align: right;\">\n",
       "      <th></th>\n",
       "      <th>Year</th>\n",
       "      <th>Month</th>\n",
       "      <th>Day</th>\n",
       "      <th>Federal Funds Target Rate</th>\n",
       "      <th>Federal Funds Upper Target</th>\n",
       "      <th>Federal Funds Lower Target</th>\n",
       "      <th>Effective Federal Funds Rate</th>\n",
       "      <th>Real GDP (Percent Change)</th>\n",
       "      <th>Unemployment Rate</th>\n",
       "      <th>Inflation Rate</th>\n",
       "    </tr>\n",
       "  </thead>\n",
       "  <tbody>\n",
       "    <tr>\n",
       "      <th>899</th>\n",
       "      <td>2016</td>\n",
       "      <td>12</td>\n",
       "      <td>14</td>\n",
       "      <td>1.0</td>\n",
       "      <td>0.75</td>\n",
       "      <td>0.50</td>\n",
       "      <td>0.54</td>\n",
       "      <td>1.9</td>\n",
       "      <td>4.7</td>\n",
       "      <td>2.2</td>\n",
       "    </tr>\n",
       "    <tr>\n",
       "      <th>900</th>\n",
       "      <td>2017</td>\n",
       "      <td>1</td>\n",
       "      <td>1</td>\n",
       "      <td>1.0</td>\n",
       "      <td>0.75</td>\n",
       "      <td>0.50</td>\n",
       "      <td>0.65</td>\n",
       "      <td>1.9</td>\n",
       "      <td>4.8</td>\n",
       "      <td>2.3</td>\n",
       "    </tr>\n",
       "    <tr>\n",
       "      <th>901</th>\n",
       "      <td>2017</td>\n",
       "      <td>2</td>\n",
       "      <td>1</td>\n",
       "      <td>1.0</td>\n",
       "      <td>0.75</td>\n",
       "      <td>0.50</td>\n",
       "      <td>0.66</td>\n",
       "      <td>1.9</td>\n",
       "      <td>4.7</td>\n",
       "      <td>2.2</td>\n",
       "    </tr>\n",
       "    <tr>\n",
       "      <th>902</th>\n",
       "      <td>2017</td>\n",
       "      <td>3</td>\n",
       "      <td>1</td>\n",
       "      <td>1.0</td>\n",
       "      <td>0.75</td>\n",
       "      <td>0.50</td>\n",
       "      <td>0.66</td>\n",
       "      <td>1.9</td>\n",
       "      <td>4.7</td>\n",
       "      <td>2.2</td>\n",
       "    </tr>\n",
       "    <tr>\n",
       "      <th>903</th>\n",
       "      <td>2017</td>\n",
       "      <td>3</td>\n",
       "      <td>16</td>\n",
       "      <td>1.0</td>\n",
       "      <td>1.00</td>\n",
       "      <td>0.75</td>\n",
       "      <td>0.66</td>\n",
       "      <td>1.9</td>\n",
       "      <td>4.7</td>\n",
       "      <td>2.2</td>\n",
       "    </tr>\n",
       "  </tbody>\n",
       "</table>\n",
       "</div>"
      ],
      "text/plain": [
       "     Year  Month  Day  Federal Funds Target Rate  Federal Funds Upper Target  \\\n",
       "899  2016     12   14                        1.0                        0.75   \n",
       "900  2017      1    1                        1.0                        0.75   \n",
       "901  2017      2    1                        1.0                        0.75   \n",
       "902  2017      3    1                        1.0                        0.75   \n",
       "903  2017      3   16                        1.0                        1.00   \n",
       "\n",
       "     Federal Funds Lower Target  Effective Federal Funds Rate  \\\n",
       "899                        0.50                          0.54   \n",
       "900                        0.50                          0.65   \n",
       "901                        0.50                          0.66   \n",
       "902                        0.50                          0.66   \n",
       "903                        0.75                          0.66   \n",
       "\n",
       "     Real GDP (Percent Change)  Unemployment Rate  Inflation Rate  \n",
       "899                        1.9                4.7             2.2  \n",
       "900                        1.9                4.8             2.3  \n",
       "901                        1.9                4.7             2.2  \n",
       "902                        1.9                4.7             2.2  \n",
       "903                        1.9                4.7             2.2  "
      ]
     },
     "execution_count": 3,
     "metadata": {},
     "output_type": "execute_result"
    }
   ],
   "source": [
    "data.tail()"
   ]
  },
  {
   "cell_type": "markdown",
   "id": "49515323",
   "metadata": {
    "papermill": {
     "duration": 0.020074,
     "end_time": "2022-01-13T14:08:25.086700",
     "exception": false,
     "start_time": "2022-01-13T14:08:25.066626",
     "status": "completed"
    },
    "tags": []
   },
   "source": [
    "Then I make a hist plot, and I found the plot works well,it proves that there is data in this column(FFIR column). So I guess I need to remove the rows with null federal fund rate, if my target is to analyse the fedral fund interest rate."
   ]
  },
  {
   "cell_type": "code",
   "execution_count": 4,
   "id": "3bf0efd5",
   "metadata": {
    "execution": {
     "iopub.execute_input": "2022-01-13T14:08:25.127233Z",
     "iopub.status.busy": "2022-01-13T14:08:25.126247Z",
     "iopub.status.idle": "2022-01-13T14:08:25.397735Z",
     "shell.execute_reply": "2022-01-13T14:08:25.398213Z",
     "shell.execute_reply.started": "2022-01-13T14:07:05.554169Z"
    },
    "papermill": {
     "duration": 0.293293,
     "end_time": "2022-01-13T14:08:25.398378",
     "exception": false,
     "start_time": "2022-01-13T14:08:25.105085",
     "status": "completed"
    },
    "tags": []
   },
   "outputs": [
    {
     "data": {
      "text/plain": [
       "<AxesSubplot:ylabel='Frequency'>"
      ]
     },
     "execution_count": 4,
     "metadata": {},
     "output_type": "execute_result"
    },
    {
     "data": {
      "image/png": "[encoded data removed]",
      "text/plain": [
       "<Figure size 432x288 with 1 Axes>"
      ]
     },
     "metadata": {
      "needs_background": "light"
     },
     "output_type": "display_data"
    }
   ],
   "source": [
    "data['Federal Funds Target Rate'].plot.hist()"
   ]
  },
  {
   "cell_type": "markdown",
   "id": "0ad19edf",
   "metadata": {
    "papermill": {
     "duration": 0.018666,
     "end_time": "2022-01-13T14:08:25.436081",
     "exception": false,
     "start_time": "2022-01-13T14:08:25.417415",
     "status": "completed"
    },
    "tags": []
   },
   "source": [
    "Let's do this"
   ]
  },
  {
   "cell_type": "code",
   "execution_count": 5,
   "id": "3265071b",
   "metadata": {
    "execution": {
     "iopub.execute_input": "2022-01-13T14:08:25.477871Z",
     "iopub.status.busy": "2022-01-13T14:08:25.477264Z",
     "iopub.status.idle": "2022-01-13T14:08:25.484007Z",
     "shell.execute_reply": "2022-01-13T14:08:25.483393Z",
     "shell.execute_reply.started": "2022-01-13T14:07:05.740971Z"
    },
    "papermill": {
     "duration": 0.029005,
     "end_time": "2022-01-13T14:08:25.484138",
     "exception": false,
     "start_time": "2022-01-13T14:08:25.455133",
     "status": "completed"
    },
    "tags": []
   },
   "outputs": [],
   "source": [
    "from numpy import nan as NA\n",
    "data_rm_lit = data.iloc[:,:4]\n",
    "data_rmna = data_rm_lit.dropna()"
   ]
  },
  {
   "cell_type": "code",
   "execution_count": 6,
   "id": "a1774cc9",
   "metadata": {
    "execution": {
     "iopub.execute_input": "2022-01-13T14:08:25.531386Z",
     "iopub.status.busy": "2022-01-13T14:08:25.528579Z",
     "iopub.status.idle": "2022-01-13T14:08:25.535567Z",
     "shell.execute_reply": "2022-01-13T14:08:25.534973Z",
     "shell.execute_reply.started": "2022-01-13T14:07:05.749639Z"
    },
    "papermill": {
     "duration": 0.032021,
     "end_time": "2022-01-13T14:08:25.535717",
     "exception": false,
     "start_time": "2022-01-13T14:08:25.503696",
     "status": "completed"
    },
    "tags": []
   },
   "outputs": [
    {
     "data": {
      "text/html": [
       "<div>\n",
       "<style scoped>\n",
       "    .dataframe tbody tr th:only-of-type {\n",
       "        vertical-align: middle;\n",
       "    }\n",
       "\n",
       "    .dataframe tbody tr th {\n",
       "        vertical-align: top;\n",
       "    }\n",
       "\n",
       "    .dataframe thead th {\n",
       "        text-align: right;\n",
       "    }\n",
       "</style>\n",
       "<table border=\"1\" class=\"dataframe\">\n",
       "  <thead>\n",
       "    <tr style=\"text-align: right;\">\n",
       "      <th></th>\n",
       "      <th>Year</th>\n",
       "      <th>Month</th>\n",
       "      <th>Day</th>\n",
       "      <th>Federal Funds Target Rate</th>\n",
       "    </tr>\n",
       "  </thead>\n",
       "  <tbody>\n",
       "    <tr>\n",
       "      <th>899</th>\n",
       "      <td>2016</td>\n",
       "      <td>12</td>\n",
       "      <td>14</td>\n",
       "      <td>1.0</td>\n",
       "    </tr>\n",
       "    <tr>\n",
       "      <th>900</th>\n",
       "      <td>2017</td>\n",
       "      <td>1</td>\n",
       "      <td>1</td>\n",
       "      <td>1.0</td>\n",
       "    </tr>\n",
       "    <tr>\n",
       "      <th>901</th>\n",
       "      <td>2017</td>\n",
       "      <td>2</td>\n",
       "      <td>1</td>\n",
       "      <td>1.0</td>\n",
       "    </tr>\n",
       "    <tr>\n",
       "      <th>902</th>\n",
       "      <td>2017</td>\n",
       "      <td>3</td>\n",
       "      <td>1</td>\n",
       "      <td>1.0</td>\n",
       "    </tr>\n",
       "    <tr>\n",
       "      <th>903</th>\n",
       "      <td>2017</td>\n",
       "      <td>3</td>\n",
       "      <td>16</td>\n",
       "      <td>1.0</td>\n",
       "    </tr>\n",
       "  </tbody>\n",
       "</table>\n",
       "</div>"
      ],
      "text/plain": [
       "     Year  Month  Day  Federal Funds Target Rate\n",
       "899  2016     12   14                        1.0\n",
       "900  2017      1    1                        1.0\n",
       "901  2017      2    1                        1.0\n",
       "902  2017      3    1                        1.0\n",
       "903  2017      3   16                        1.0"
      ]
     },
     "execution_count": 6,
     "metadata": {},
     "output_type": "execute_result"
    }
   ],
   "source": [
    "data_rmna.head()\n",
    "data_rmna.tail()"
   ]
  },
  {
   "cell_type": "markdown",
   "id": "3a4fc59c",
   "metadata": {
    "papermill": {
     "duration": 0.019771,
     "end_time": "2022-01-13T14:08:25.575525",
     "exception": false,
     "start_time": "2022-01-13T14:08:25.555754",
     "status": "completed"
    },
    "tags": []
   },
   "source": [
    "OK, after above process, null data has been removed from the data set."
   ]
  },
  {
   "cell_type": "markdown",
   "id": "cf11a7f7",
   "metadata": {
    "papermill": {
     "duration": 0.019543,
     "end_time": "2022-01-13T14:08:25.614732",
     "exception": false,
     "start_time": "2022-01-13T14:08:25.595189",
     "status": "completed"
    },
    "tags": []
   },
   "source": [
    "# Convert date format to Year-Month-Day\n",
    "In order to visulize a trend of the interest rate data, I'd better to make the time data available for visualization"
   ]
  },
  {
   "cell_type": "code",
   "execution_count": 7,
   "id": "f0bbf4c6",
   "metadata": {
    "execution": {
     "iopub.execute_input": "2022-01-13T14:08:25.668916Z",
     "iopub.status.busy": "2022-01-13T14:08:25.668238Z",
     "iopub.status.idle": "2022-01-13T14:08:25.673990Z",
     "shell.execute_reply": "2022-01-13T14:08:25.673440Z",
     "shell.execute_reply.started": "2022-01-13T14:07:05.769113Z"
    },
    "papermill": {
     "duration": 0.039937,
     "end_time": "2022-01-13T14:08:25.674120",
     "exception": false,
     "start_time": "2022-01-13T14:08:25.634183",
     "status": "completed"
    },
    "tags": []
   },
   "outputs": [
    {
     "name": "stderr",
     "output_type": "stream",
     "text": [
      "/opt/conda/lib/python3.7/site-packages/ipykernel_launcher.py:1: SettingWithCopyWarning: \n",
      "A value is trying to be set on a copy of a slice from a DataFrame.\n",
      "Try using .loc[row_indexer,col_indexer] = value instead\n",
      "\n",
      "See the caveats in the documentation: https://pandas.pydata.org/pandas-docs/stable/user_guide/indexing.html#returning-a-view-versus-a-copy\n",
      "  \"\"\"Entry point for launching an IPython kernel.\n"
     ]
    },
    {
     "data": {
      "text/html": [
       "<div>\n",
       "<style scoped>\n",
       "    .dataframe tbody tr th:only-of-type {\n",
       "        vertical-align: middle;\n",
       "    }\n",
       "\n",
       "    .dataframe tbody tr th {\n",
       "        vertical-align: top;\n",
       "    }\n",
       "\n",
       "    .dataframe thead th {\n",
       "        text-align: right;\n",
       "    }\n",
       "</style>\n",
       "<table border=\"1\" class=\"dataframe\">\n",
       "  <thead>\n",
       "    <tr style=\"text-align: right;\">\n",
       "      <th></th>\n",
       "      <th>Year</th>\n",
       "      <th>Month</th>\n",
       "      <th>Day</th>\n",
       "      <th>Federal Funds Target Rate</th>\n",
       "      <th>Date</th>\n",
       "    </tr>\n",
       "  </thead>\n",
       "  <tbody>\n",
       "    <tr>\n",
       "      <th>339</th>\n",
       "      <td>1982</td>\n",
       "      <td>9</td>\n",
       "      <td>27</td>\n",
       "      <td>10.25</td>\n",
       "      <td>1982/9/27</td>\n",
       "    </tr>\n",
       "    <tr>\n",
       "      <th>340</th>\n",
       "      <td>1982</td>\n",
       "      <td>10</td>\n",
       "      <td>1</td>\n",
       "      <td>10.00</td>\n",
       "      <td>1982/10/1</td>\n",
       "    </tr>\n",
       "    <tr>\n",
       "      <th>341</th>\n",
       "      <td>1982</td>\n",
       "      <td>10</td>\n",
       "      <td>7</td>\n",
       "      <td>9.50</td>\n",
       "      <td>1982/10/7</td>\n",
       "    </tr>\n",
       "    <tr>\n",
       "      <th>342</th>\n",
       "      <td>1982</td>\n",
       "      <td>11</td>\n",
       "      <td>1</td>\n",
       "      <td>9.50</td>\n",
       "      <td>1982/11/1</td>\n",
       "    </tr>\n",
       "    <tr>\n",
       "      <th>343</th>\n",
       "      <td>1982</td>\n",
       "      <td>11</td>\n",
       "      <td>19</td>\n",
       "      <td>9.00</td>\n",
       "      <td>1982/11/19</td>\n",
       "    </tr>\n",
       "  </tbody>\n",
       "</table>\n",
       "</div>"
      ],
      "text/plain": [
       "     Year  Month  Day  Federal Funds Target Rate        Date\n",
       "339  1982      9   27                      10.25   1982/9/27\n",
       "340  1982     10    1                      10.00   1982/10/1\n",
       "341  1982     10    7                       9.50   1982/10/7\n",
       "342  1982     11    1                       9.50   1982/11/1\n",
       "343  1982     11   19                       9.00  1982/11/19"
      ]
     },
     "execution_count": 7,
     "metadata": {},
     "output_type": "execute_result"
    }
   ],
   "source": [
    "data_rmna['Date'] = data_rmna['Year'].map(str)+\"/\"+data_rmna['Month'].map(str)+\"/\"+data_rmna['Day'].map(str)\n",
    "data_rmna.head()"
   ]
  },
  {
   "cell_type": "markdown",
   "id": "5d6be172",
   "metadata": {
    "papermill": {
     "duration": 0.020261,
     "end_time": "2022-01-13T14:08:25.715482",
     "exception": false,
     "start_time": "2022-01-13T14:08:25.695221",
     "status": "completed"
    },
    "tags": []
   },
   "source": [
    "Seems it works well, now I have a column that is in the date format."
   ]
  },
  {
   "cell_type": "markdown",
   "id": "7d91312c",
   "metadata": {
    "papermill": {
     "duration": 0.021399,
     "end_time": "2022-01-13T14:08:25.757574",
     "exception": false,
     "start_time": "2022-01-13T14:08:25.736175",
     "status": "completed"
    },
    "tags": []
   },
   "source": [
    "# Line Chart in \"seaborn\"\n",
    "Draw a line chart to see what is the trend of the Fed interest rate is."
   ]
  },
  {
   "cell_type": "code",
   "execution_count": 8,
   "id": "29d32c60",
   "metadata": {
    "execution": {
     "iopub.execute_input": "2022-01-13T14:08:25.801450Z",
     "iopub.status.busy": "2022-01-13T14:08:25.800524Z",
     "iopub.status.idle": "2022-01-13T14:08:33.831900Z",
     "shell.execute_reply": "2022-01-13T14:08:33.831342Z",
     "shell.execute_reply.started": "2022-01-13T14:07:05.793440Z"
    },
    "papermill": {
     "duration": 8.054416,
     "end_time": "2022-01-13T14:08:33.832068",
     "exception": false,
     "start_time": "2022-01-13T14:08:25.777652",
     "status": "completed"
    },
    "tags": []
   },
   "outputs": [
    {
     "data": {
      "text/plain": [
       "<AxesSubplot:xlabel='Date', ylabel='Federal Funds Target Rate'>"
      ]
     },
     "execution_count": 8,
     "metadata": {},
     "output_type": "execute_result"
    },
    {
     "data": {
      "image/png": "[encoded data removed]",
      "text/plain": [
       "<Figure size 432x288 with 1 Axes>"
      ]
     },
     "metadata": {
      "needs_background": "light"
     },
     "output_type": "display_data"
    }
   ],
   "source": [
    "import seaborn as sns\n",
    "\n",
    "sns.lineplot(x='Date',y='Federal Funds Target Rate',data=data_rmna)"
   ]
  },
  {
   "cell_type": "markdown",
   "id": "fef680b4",
   "metadata": {
    "papermill": {
     "duration": 0.021482,
     "end_time": "2022-01-13T14:08:33.875701",
     "exception": false,
     "start_time": "2022-01-13T14:08:33.854219",
     "status": "completed"
    },
    "tags": []
   },
   "source": [
    "# Line chart in plotly"
   ]
  },
  {
   "cell_type": "code",
   "execution_count": 9,
   "id": "564d2009",
   "metadata": {
    "execution": {
     "iopub.execute_input": "2022-01-13T14:08:33.925069Z",
     "iopub.status.busy": "2022-01-13T14:08:33.924379Z",
     "iopub.status.idle": "2022-01-13T14:08:36.078598Z",
     "shell.execute_reply": "2022-01-13T14:08:36.078018Z",
     "shell.execute_reply.started": "2022-01-13T14:07:12.626162Z"
    },
    "papermill": {
     "duration": 2.180327,
     "end_time": "2022-01-13T14:08:36.078743",
     "exception": false,
     "start_time": "2022-01-13T14:08:33.898416",
     "status": "completed"
    },
    "tags": []
   },
   "outputs": [
    {
     "data": {
      "text/html": [
       "        <script type=\"text/javascript\">\n",
       "        window.PlotlyConfig = {MathJaxConfig: 'local'};\n",
       "        if (window.MathJax) {MathJax.Hub.Config({SVG: {font: \"STIX-Web\"}});}\n",
       "        if (typeof require !== 'undefined') {\n",
       "        require.undef(\"plotly\");\n",
       "        requirejs.config({\n",
       "            paths: {\n",
       "                'plotly': ['https://cdn.plot.ly/plotly-2.6.3.min']\n",
       "            }\n",
       "        });\n",
       "        require(['plotly'], function(Plotly) {\n",
       "            window._Plotly = Plotly;\n",
       "        });\n",
       "        }\n",
       "        </script>\n",
       "        "
      ]
     },
     "metadata": {},
     "output_type": "display_data"
    },
    {
     "data": {
      "text/html": [
       "<div>                            <div id=\"71ec6930-3de1-4f93-ba45-89cd7c09daa7\" class=\"plotly-graph-div\" style=\"height:525px; width:100%;\"></div>            <script type=\"text/javascript\">                require([\"plotly\"], function(Plotly) {                    window.PLOTLYENV=window.PLOTLYENV || {};                                    if (document.getElementById(\"71ec6930-3de1-4f93-ba45-89cd7c09daa7\")) {                    Plotly.newPlot(                        \"71ec6930-3de1-4f93-ba45-89cd7c09daa7\",                        [{\"hovertemplate\":\"Date=%{x}<br>Federal Funds Target Rate=%{y}<extra></extra>\",\"legendgroup\":\"\",\"line\":{\"color\":\"#636efa\",\"dash\":\"solid\"},\"marker\":{\"symbol\":\"circle\"},\"mode\":\"lines\",\"name\":\"\",\"orientation\":\"v\",\"showlegend\":false,\"x\":[\"1982/9/27\",\"1982/10/1\",\"1982/10/7\",\"1982/11/1\",\"1982/11/19\",\"1982/12/1\",\"1982/12/14\",\"1983/1/1\",\"1983/2/1\",\"1983/3/1\",\"1983/3/31\",\"1983/4/1\",\"1983/5/1\",\"1983/5/25\",\"1983/6/1\",\"1983/6/24\",\"1983/7/1\",\"1983/7/14\",\"1983/7/20\",\"1983/8/1\",\"1983/8/11\",\"1983/8/17\",\"1983/9/1\",\"1983/9/15\",\"1983/10/1\",\"1983/11/1\",\"1983/12/1\",\"1984/1/1\",\"1984/2/1\",\"1984/3/1\",\"1984/3/29\",\"1984/4/1\",\"1984/5/1\",\"1984/6/1\",\"1984/7/1\",\"1984/7/5\",\"1984/7/19\",\"1984/8/1\",\"1984/8/9\",\"1984/9/1\",\"1984/9/20\",\"1984/9/27\",\"1984/10/1\",\"1984/10/11\",\"1984/10/18\",\"1984/11/1\",\"1984/11/8\",\"1984/11/23\",\"1984/12/1\",\"1984/12/6\",\"1984/12/19\",\"1984/12/24\",\"1985/1/1\",\"1985/1/24\",\"1985/2/1\",\"1985/2/14\",\"1985/3/1\",\"1985/3/28\",\"1985/4/1\",\"1985/4/25\",\"1985/5/1\",\"1985/5/20\",\"1985/6/1\",\"1985/7/1\",\"1985/7/11\",\"1985/8/1\",\"1985/8/21\",\"1985/9/1\",\"1985/9/6\",\"1985/10/1\",\"1985/11/1\",\"1985/12/1\",\"1985/12/18\",\"1986/1/1\",\"1986/2/1\",\"1986/3/1\",\"1986/3/7\",\"1986/4/1\",\"1986/4/2\",\"1986/4/21\",\"1986/5/1\",\"1986/5/22\",\"1986/6/1\",\"1986/6/5\",\"1986/7/1\",\"1986/7/11\",\"1986/8/1\",\"1986/8/21\",\"1986/9/1\",\"1986/10/1\",\"1986/11/1\",\"1986/12/1\",\"1987/1/1\",\"1987/1/5\",\"1987/2/1\",\"1987/3/1\",\"1987/4/1\",\"1987/4/30\",\"1987/5/1\",\"1987/5/22\",\"1987/6/1\",\"1987/7/1\",\"1987/7/2\",\"1987/8/1\",\"1987/8/27\",\"1987/9/1\",\"1987/9/3\",\"1987/9/4\",\"1987/9/24\",\"1987/10/1\",\"1987/11/1\",\"1987/11/4\",\"1987/12/1\",\"1988/1/1\",\"1988/1/28\",\"1988/2/1\",\"1988/2/11\",\"1988/3/1\",\"1988/3/30\",\"1988/4/1\",\"1988/5/1\",\"1988/5/9\",\"1988/5/25\",\"1988/6/1\",\"1988/6/22\",\"1988/7/1\",\"1988/7/19\",\"1988/8/1\",\"1988/8/8\",\"1988/8/9\",\"1988/9/1\",\"1988/10/1\",\"1988/11/1\",\"1988/11/17\",\"1988/11/22\",\"1988/12/1\",\"1988/12/15\",\"1989/1/1\",\"1989/1/5\",\"1989/2/1\",\"1989/2/9\",\"1989/2/14\",\"1989/2/24\",\"1989/3/1\",\"1989/4/1\",\"1989/5/1\",\"1989/5/17\",\"1989/6/1\",\"1989/6/6\",\"1989/7/1\",\"1989/7/7\",\"1989/7/27\",\"1989/8/1\",\"1989/9/1\",\"1989/10/1\",\"1989/10/19\",\"1989/11/1\",\"1989/11/6\",\"1989/12/1\",\"1989/12/20\",\"1990/1/1\",\"1990/2/1\",\"1990/3/1\",\"1990/4/1\",\"1990/5/1\",\"1990/6/1\",\"1990/7/1\",\"1990/7/13\",\"1990/8/1\",\"1990/9/1\",\"1990/10/1\",\"1990/10/29\",\"1990/11/1\",\"1990/11/14\",\"1990/12/1\",\"1990/12/7\",\"1990/12/19\",\"1991/1/1\",\"1991/1/9\",\"1991/2/1\",\"1991/3/1\",\"1991/3/8\",\"1991/4/1\",\"1991/4/30\",\"1991/5/1\",\"1991/6/1\",\"1991/7/1\",\"1991/8/1\",\"1991/8/6\",\"1991/9/1\",\"1991/9/13\",\"1991/10/1\",\"1991/10/31\",\"1991/11/1\",\"1991/11/6\",\"1991/12/1\",\"1991/12/6\",\"1991/12/20\",\"1992/1/1\",\"1992/2/1\",\"1992/3/1\",\"1992/4/1\",\"1992/4/9\",\"1992/5/1\",\"1992/6/1\",\"1992/7/1\",\"1992/7/2\",\"1992/8/1\",\"1992/9/1\",\"1992/9/4\",\"1992/10/1\",\"1992/11/1\",\"1992/12/1\",\"1993/1/1\",\"1993/2/1\",\"1993/3/1\",\"1993/4/1\",\"1993/5/1\",\"1993/6/1\",\"1993/7/1\",\"1993/8/1\",\"1993/9/1\",\"1993/10/1\",\"1993/11/1\",\"1993/12/1\",\"1994/1/1\",\"1994/2/1\",\"1994/2/4\",\"1994/3/1\",\"1994/3/22\",\"1994/4/1\",\"1994/4/18\",\"1994/5/1\",\"1994/5/17\",\"1994/6/1\",\"1994/7/1\",\"1994/8/1\",\"1994/8/16\",\"1994/9/1\",\"1994/10/1\",\"1994/11/1\",\"1994/11/15\",\"1994/12/1\",\"1995/1/1\",\"1995/2/1\",\"1995/3/1\",\"1995/4/1\",\"1995/5/1\",\"1995/6/1\",\"1995/7/1\",\"1995/7/6\",\"1995/8/1\",\"1995/9/1\",\"1995/10/1\",\"1995/11/1\",\"1995/12/1\",\"1995/12/19\",\"1996/1/1\",\"1996/1/31\",\"1996/2/1\",\"1996/3/1\",\"1996/4/1\",\"1996/5/1\",\"1996/6/1\",\"1996/7/1\",\"1996/8/1\",\"1996/9/1\",\"1996/10/1\",\"1996/11/1\",\"1996/12/1\",\"1997/1/1\",\"1997/2/1\",\"1997/3/1\",\"1997/3/25\",\"1997/4/1\",\"1997/5/1\",\"1997/6/1\",\"1997/7/1\",\"1997/8/1\",\"1997/9/1\",\"1997/10/1\",\"1997/11/1\",\"1997/12/1\",\"1998/1/1\",\"1998/2/1\",\"1998/3/1\",\"1998/4/1\",\"1998/5/1\",\"1998/6/1\",\"1998/7/1\",\"1998/8/1\",\"1998/9/1\",\"1998/9/29\",\"1998/10/1\",\"1998/10/15\",\"1998/11/1\",\"1998/11/17\",\"1998/12/1\",\"1999/1/1\",\"1999/2/1\",\"1999/3/1\",\"1999/4/1\",\"1999/5/1\",\"1999/6/1\",\"1999/6/30\",\"1999/7/1\",\"1999/8/1\",\"1999/8/24\",\"1999/9/1\",\"1999/10/1\",\"1999/11/1\",\"1999/11/16\",\"1999/12/1\",\"2000/1/1\",\"2000/2/1\",\"2000/2/2\",\"2000/3/1\",\"2000/3/21\",\"2000/4/1\",\"2000/5/1\",\"2000/5/16\",\"2000/6/1\",\"2000/7/1\",\"2000/8/1\",\"2000/9/1\",\"2000/10/1\",\"2000/11/1\",\"2000/12/1\",\"2001/1/1\",\"2001/1/3\",\"2001/1/31\",\"2001/2/1\",\"2001/3/1\",\"2001/3/20\",\"2001/4/1\",\"2001/4/18\",\"2001/5/1\",\"2001/5/15\",\"2001/6/1\",\"2001/6/27\",\"2001/7/1\",\"2001/8/1\",\"2001/8/21\",\"2001/9/1\",\"2001/9/17\",\"2001/10/1\",\"2001/10/2\",\"2001/11/1\",\"2001/11/6\",\"2001/12/1\",\"2001/12/11\",\"2002/1/1\",\"2002/2/1\",\"2002/3/1\",\"2002/4/1\",\"2002/5/1\",\"2002/6/1\",\"2002/7/1\",\"2002/8/1\",\"2002/9/1\",\"2002/10/1\",\"2002/11/1\",\"2002/11/6\",\"2002/12/1\",\"2003/1/1\",\"2003/2/1\",\"2003/3/1\",\"2003/4/1\",\"2003/5/1\",\"2003/6/1\",\"2003/6/25\",\"2003/7/1\",\"2003/8/1\",\"2003/9/1\",\"2003/10/1\",\"2003/11/1\",\"2003/12/1\",\"2004/1/1\",\"2004/2/1\",\"2004/3/1\",\"2004/4/1\",\"2004/5/1\",\"2004/6/1\",\"2004/6/30\",\"2004/7/1\",\"2004/8/1\",\"2004/8/10\",\"2004/9/1\",\"2004/9/21\",\"2004/10/1\",\"2004/11/1\",\"2004/11/10\",\"2004/12/1\",\"2004/12/14\",\"2005/1/1\",\"2005/2/1\",\"2005/2/2\",\"2005/3/1\",\"2005/3/22\",\"2005/4/1\",\"2005/5/1\",\"2005/5/3\",\"2005/6/1\",\"2005/6/30\",\"2005/7/1\",\"2005/8/1\",\"2005/8/9\",\"2005/9/1\",\"2005/9/20\",\"2005/10/1\",\"2005/11/1\",\"2005/12/1\",\"2005/12/13\",\"2006/1/1\",\"2006/1/31\",\"2006/2/1\",\"2006/3/1\",\"2006/3/28\",\"2006/4/1\",\"2006/5/1\",\"2006/5/10\",\"2006/6/1\",\"2006/6/29\",\"2006/7/1\",\"2006/8/1\",\"2006/9/1\",\"2006/10/1\",\"2006/11/1\",\"2006/12/1\",\"2007/1/1\",\"2007/2/1\",\"2007/3/1\",\"2007/4/1\",\"2007/5/1\",\"2007/6/1\",\"2007/7/1\",\"2007/8/1\",\"2007/9/1\",\"2007/9/18\",\"2007/10/1\",\"2007/10/31\",\"2007/11/1\",\"2007/12/1\",\"2007/12/11\",\"2008/1/1\",\"2008/1/22\",\"2008/1/30\",\"2008/2/1\",\"2008/3/1\",\"2008/3/18\",\"2008/4/1\",\"2008/4/30\",\"2008/5/1\",\"2008/6/1\",\"2008/7/1\",\"2008/8/1\",\"2008/9/1\",\"2008/10/1\",\"2008/10/8\",\"2008/10/29\",\"2008/11/1\",\"2008/12/1\",\"2008/12/16\",\"2009/1/1\",\"2009/2/1\",\"2009/3/1\",\"2009/4/1\",\"2009/5/1\",\"2009/6/1\",\"2009/7/1\",\"2009/8/1\",\"2009/9/1\",\"2009/10/1\",\"2009/11/1\",\"2009/12/1\",\"2010/1/1\",\"2010/2/1\",\"2010/3/1\",\"2010/4/1\",\"2010/5/1\",\"2010/6/1\",\"2010/7/1\",\"2010/8/1\",\"2010/9/1\",\"2010/10/1\",\"2010/11/1\",\"2010/12/1\",\"2011/1/1\",\"2011/2/1\",\"2011/3/1\",\"2011/4/1\",\"2011/5/1\",\"2011/6/1\",\"2011/7/1\",\"2011/8/1\",\"2011/9/1\",\"2011/10/1\",\"2011/11/1\",\"2011/12/1\",\"2012/1/1\",\"2012/2/1\",\"2012/3/1\",\"2012/4/1\",\"2012/5/1\",\"2012/6/1\",\"2012/7/1\",\"2012/8/1\",\"2012/9/1\",\"2012/10/1\",\"2012/11/1\",\"2012/12/1\",\"2013/1/1\",\"2013/2/1\",\"2013/3/1\",\"2013/4/1\",\"2013/5/1\",\"2013/6/1\",\"2013/7/1\",\"2013/8/1\",\"2013/9/1\",\"2013/10/1\",\"2013/11/1\",\"2013/12/1\",\"2014/1/1\",\"2014/2/1\",\"2014/3/1\",\"2014/4/1\",\"2014/5/1\",\"2014/6/1\",\"2014/7/1\",\"2014/8/1\",\"2014/9/1\",\"2014/10/1\",\"2014/11/1\",\"2014/12/1\",\"2015/1/1\",\"2015/2/1\",\"2015/3/1\",\"2015/4/1\",\"2015/5/1\",\"2015/6/1\",\"2015/7/1\",\"2015/8/1\",\"2015/9/1\",\"2015/10/1\",\"2015/11/1\",\"2015/12/1\",\"2015/12/16\",\"2016/1/1\",\"2016/2/1\",\"2016/3/1\",\"2016/4/1\",\"2016/5/1\",\"2016/6/1\",\"2016/7/1\",\"2016/8/1\",\"2016/9/1\",\"2016/10/1\",\"2016/11/1\",\"2016/12/1\",\"2016/12/14\",\"2017/1/1\",\"2017/2/1\",\"2017/3/1\",\"2017/3/16\"],\"xaxis\":\"x\",\"y\":[10.25,10.0,9.5,9.5,9.0,9.0,8.5,8.5,8.5,8.5,8.625,8.625,8.625,8.75,8.75,9.0,9.0,9.25,9.4375,9.4375,9.5625,9.5,9.5,9.375,9.375,9.375,9.375,9.375,9.375,9.375,10.5,10.5,10.5,10.5,10.5,11.0,11.25,11.25,11.5,11.5,11.25,11.0,11.0,10.5,10.0,10.0,9.5,9.0,9.0,8.75,8.5,8.125,8.125,8.25,8.25,8.375,8.375,8.5,8.5,8.25,8.25,7.75,7.75,7.75,7.6875,7.75,7.8125,7.8125,8.0,8.0,8.0,8.0,7.75,7.75,7.75,7.75,7.25,7.25,7.3125,6.75,6.75,6.8125,6.8125,6.875,6.875,6.375,6.375,5.875,5.875,5.875,5.875,5.875,5.875,6.0,6.0,6.0,6.0,6.5,6.5,6.75,6.75,6.75,6.625,6.625,6.75,6.75,6.875,7.25,7.3125,7.3125,7.3125,6.8125,6.8125,6.8125,6.625,6.625,6.5,6.5,6.75,6.75,6.75,7.0,7.25,7.25,7.4375,7.5,7.6875,7.6875,7.75,8.125,8.125,8.125,8.125,8.3125,8.375,8.375,8.6875,8.6875,9.0,9.0,9.125,9.3125,9.75,9.75,9.75,9.75,9.8125,9.8125,9.5625,9.5625,9.3125,9.0625,9.0625,9.0625,9.0625,8.75,8.75,8.5,8.5,8.25,8.25,8.25,8.25,8.25,8.25,8.25,8.25,8.0,8.0,8.0,8.0,7.75,7.75,7.5,7.5,7.25,7.0,7.0,6.75,6.25,6.25,6.0,6.0,5.75,5.75,5.75,5.75,5.75,5.5,5.5,5.25,5.25,5.0,5.0,4.75,4.75,4.5,4.0,4.0,4.0,4.0,4.0,3.75,3.75,3.75,3.75,3.25,3.25,3.25,3.0,3.0,3.0,3.0,3.0,3.0,3.0,3.0,3.0,3.0,3.0,3.0,3.0,3.0,3.0,3.0,3.0,3.0,3.25,3.25,3.5,3.5,3.75,3.75,4.25,4.25,4.25,4.25,4.75,4.75,4.75,4.75,5.5,5.5,5.5,6.0,6.0,6.0,6.0,6.0,6.0,5.75,5.75,5.75,5.75,5.75,5.75,5.5,5.5,5.25,5.25,5.25,5.25,5.25,5.25,5.25,5.25,5.25,5.25,5.25,5.25,5.25,5.25,5.25,5.5,5.5,5.5,5.5,5.5,5.5,5.5,5.5,5.5,5.5,5.5,5.5,5.5,5.5,5.5,5.5,5.5,5.5,5.5,5.25,5.25,5.0,5.0,4.75,4.75,4.75,4.75,4.75,4.75,4.75,4.75,5.0,5.0,5.0,5.25,5.25,5.25,5.25,5.5,5.5,5.5,5.5,5.75,5.75,6.0,6.0,6.0,6.5,6.5,6.5,6.5,6.5,6.5,6.5,6.5,6.5,6.0,5.5,5.5,5.5,5.0,5.0,4.5,4.5,4.0,4.0,3.75,3.75,3.75,3.5,3.5,3.0,3.0,2.5,2.5,2.0,2.0,1.75,1.75,1.75,1.75,1.75,1.75,1.75,1.75,1.75,1.75,1.75,1.75,1.25,1.25,1.25,1.25,1.25,1.25,1.25,1.25,1.0,1.0,1.0,1.0,1.0,1.0,1.0,1.0,1.0,1.0,1.0,1.0,1.0,1.25,1.25,1.25,1.5,1.5,1.75,1.75,1.75,2.0,2.0,2.25,2.25,2.25,2.5,2.5,2.75,2.75,2.75,3.0,3.0,3.25,3.25,3.25,3.5,3.5,3.75,3.75,4.0,4.0,4.25,4.25,4.5,4.5,4.5,4.75,4.75,4.75,5.0,5.0,5.25,5.25,5.25,5.25,5.25,5.25,5.25,5.25,5.25,5.25,5.25,5.25,5.25,5.25,5.25,5.25,4.75,4.75,4.5,4.5,4.5,4.25,4.25,3.5,3.0,3.0,3.0,2.25,2.25,2.0,2.0,2.0,2.0,2.0,2.0,2.0,1.5,1.0,1.0,1.0,1.0,1.0,1.0,1.0,1.0,1.0,1.0,1.0,1.0,1.0,1.0,1.0,1.0,1.0,1.0,1.0,1.0,1.0,1.0,1.0,1.0,1.0,1.0,1.0,1.0,1.0,1.0,1.0,1.0,1.0,1.0,1.0,1.0,1.0,1.0,1.0,1.0,1.0,1.0,1.0,1.0,1.0,1.0,1.0,1.0,1.0,1.0,1.0,1.0,1.0,1.0,1.0,1.0,1.0,1.0,1.0,1.0,1.0,1.0,1.0,1.0,1.0,1.0,1.0,1.0,1.0,1.0,1.0,1.0,1.0,1.0,1.0,1.0,1.0,1.0,1.0,1.0,1.0,1.0,1.0,1.0,1.0,1.0,1.0,1.0,1.0,1.0,1.0,1.0,1.0,1.0,1.0,1.0,1.0,1.0,1.0,1.0,1.0,1.0,1.0,1.0,1.0,1.0],\"yaxis\":\"y\",\"type\":\"scatter\"}],                        {\"template\":{\"data\":{\"bar\":[{\"error_x\":{\"color\":\"#2a3f5f\"},\"error_y\":{\"color\":\"#2a3f5f\"},\"marker\":{\"line\":{\"color\":\"#E5ECF6\",\"width\":0.5},\"pattern\":{\"fillmode\":\"overlay\",\"size\":10,\"solidity\":0.2}},\"type\":\"bar\"}],\"barpolar\":[{\"marker\":{\"line\":{\"color\":\"#E5ECF6\",\"width\":0.5},\"pattern\":{\"fillmode\":\"overlay\",\"size\":10,\"solidity\":0.2}},\"type\":\"barpolar\"}],\"carpet\":[{\"aaxis\":{\"endlinecolor\":\"#2a3f5f\",\"gridcolor\":\"white\",\"linecolor\":\"white\",\"minorgridcolor\":\"white\",\"startlinecolor\":\"#2a3f5f\"},\"baxis\":{\"endlinecolor\":\"#2a3f5f\",\"gridcolor\":\"white\",\"linecolor\":\"white\",\"minorgridcolor\":\"white\",\"startlinecolor\":\"#2a3f5f\"},\"type\":\"carpet\"}],\"choropleth\":[{\"colorbar\":{\"outlinewidth\":0,\"ticks\":\"\"},\"type\":\"choropleth\"}],\"contour\":[{\"colorbar\":{\"outlinewidth\":0,\"ticks\":\"\"},\"colorscale\":[[0.0,\"#0d0887\"],[0.1111111111111111,\"#46039f\"],[0.2222222222222222,\"#7201a8\"],[0.3333333333333333,\"#9c179e\"],[0.4444444444444444,\"#bd3786\"],[0.5555555555555556,\"#d8576b\"],[0.6666666666666666,\"#ed7953\"],[0.7777777777777778,\"#fb9f3a\"],[0.8888888888888888,\"#fdca26\"],[1.0,\"#f0f921\"]],\"type\":\"contour\"}],\"contourcarpet\":[{\"colorbar\":{\"outlinewidth\":0,\"ticks\":\"\"},\"type\":\"contourcarpet\"}],\"heatmap\":[{\"colorbar\":{\"outlinewidth\":0,\"ticks\":\"\"},\"colorscale\":[[0.0,\"#0d0887\"],[0.1111111111111111,\"#46039f\"],[0.2222222222222222,\"#7201a8\"],[0.3333333333333333,\"#9c179e\"],[0.4444444444444444,\"#bd3786\"],[0.5555555555555556,\"#d8576b\"],[0.6666666666666666,\"#ed7953\"],[0.7777777777777778,\"#fb9f3a\"],[0.8888888888888888,\"#fdca26\"],[1.0,\"#f0f921\"]],\"type\":\"heatmap\"}],\"heatmapgl\":[{\"colorbar\":{\"outlinewidth\":0,\"ticks\":\"\"},\"colorscale\":[[0.0,\"#0d0887\"],[0.1111111111111111,\"#46039f\"],[0.2222222222222222,\"#7201a8\"],[0.3333333333333333,\"#9c179e\"],[0.4444444444444444,\"#bd3786\"],[0.5555555555555556,\"#d8576b\"],[0.6666666666666666,\"#ed7953\"],[0.7777777777777778,\"#fb9f3a\"],[0.8888888888888888,\"#fdca26\"],[1.0,\"#f0f921\"]],\"type\":\"heatmapgl\"}],\"histogram\":[{\"marker\":{\"pattern\":{\"fillmode\":\"overlay\",\"size\":10,\"solidity\":0.2}},\"type\":\"histogram\"}],\"histogram2d\":[{\"colorbar\":{\"outlinewidth\":0,\"ticks\":\"\"},\"colorscale\":[[0.0,\"#0d0887\"],[0.1111111111111111,\"#46039f\"],[0.2222222222222222,\"#7201a8\"],[0.3333333333333333,\"#9c179e\"],[0.4444444444444444,\"#bd3786\"],[0.5555555555555556,\"#d8576b\"],[0.6666666666666666,\"#ed7953\"],[0.7777777777777778,\"#fb9f3a\"],[0.8888888888888888,\"#fdca26\"],[1.0,\"#f0f921\"]],\"type\":\"histogram2d\"}],\"histogram2dcontour\":[{\"colorbar\":{\"outlinewidth\":0,\"ticks\":\"\"},\"colorscale\":[[0.0,\"#0d0887\"],[0.1111111111111111,\"#46039f\"],[0.2222222222222222,\"#7201a8\"],[0.3333333333333333,\"#9c179e\"],[0.4444444444444444,\"#bd3786\"],[0.5555555555555556,\"#d8576b\"],[0.6666666666666666,\"#ed7953\"],[0.7777777777777778,\"#fb9f3a\"],[0.8888888888888888,\"#fdca26\"],[1.0,\"#f0f921\"]],\"type\":\"histogram2dcontour\"}],\"mesh3d\":[{\"colorbar\":{\"outlinewidth\":0,\"ticks\":\"\"},\"type\":\"mesh3d\"}],\"parcoords\":[{\"line\":{\"colorbar\":{\"outlinewidth\":0,\"ticks\":\"\"}},\"type\":\"parcoords\"}],\"pie\":[{\"automargin\":true,\"type\":\"pie\"}],\"scatter\":[{\"marker\":{\"colorbar\":{\"outlinewidth\":0,\"ticks\":\"\"}},\"type\":\"scatter\"}],\"scatter3d\":[{\"line\":{\"colorbar\":{\"outlinewidth\":0,\"ticks\":\"\"}},\"marker\":{\"colorbar\":{\"outlinewidth\":0,\"ticks\":\"\"}},\"type\":\"scatter3d\"}],\"scattercarpet\":[{\"marker\":{\"colorbar\":{\"outlinewidth\":0,\"ticks\":\"\"}},\"type\":\"scattercarpet\"}],\"scattergeo\":[{\"marker\":{\"colorbar\":{\"outlinewidth\":0,\"ticks\":\"\"}},\"type\":\"scattergeo\"}],\"scattergl\":[{\"marker\":{\"colorbar\":{\"outlinewidth\":0,\"ticks\":\"\"}},\"type\":\"scattergl\"}],\"scattermapbox\":[{\"marker\":{\"colorbar\":{\"outlinewidth\":0,\"ticks\":\"\"}},\"type\":\"scattermapbox\"}],\"scatterpolar\":[{\"marker\":{\"colorbar\":{\"outlinewidth\":0,\"ticks\":\"\"}},\"type\":\"scatterpolar\"}],\"scatterpolargl\":[{\"marker\":{\"colorbar\":{\"outlinewidth\":0,\"ticks\":\"\"}},\"type\":\"scatterpolargl\"}],\"scatterternary\":[{\"marker\":{\"colorbar\":{\"outlinewidth\":0,\"ticks\":\"\"}},\"type\":\"scatterternary\"}],\"surface\":[{\"colorbar\":{\"outlinewidth\":0,\"ticks\":\"\"},\"colorscale\":[[0.0,\"#0d0887\"],[0.1111111111111111,\"#46039f\"],[0.2222222222222222,\"#7201a8\"],[0.3333333333333333,\"#9c179e\"],[0.4444444444444444,\"#bd3786\"],[0.5555555555555556,\"#d8576b\"],[0.6666666666666666,\"#ed7953\"],[0.7777777777777778,\"#fb9f3a\"],[0.8888888888888888,\"#fdca26\"],[1.0,\"#f0f921\"]],\"type\":\"surface\"}],\"table\":[{\"cells\":{\"fill\":{\"color\":\"#EBF0F8\"},\"line\":{\"color\":\"white\"}},\"header\":{\"fill\":{\"color\":\"#C8D4E3\"},\"line\":{\"color\":\"white\"}},\"type\":\"table\"}]},\"layout\":{\"annotationdefaults\":{\"arrowcolor\":\"#2a3f5f\",\"arrowhead\":0,\"arrowwidth\":1},\"autotypenumbers\":\"strict\",\"coloraxis\":{\"colorbar\":{\"outlinewidth\":0,\"ticks\":\"\"}},\"colorscale\":{\"diverging\":[[0,\"#8e0152\"],[0.1,\"#c51b7d\"],[0.2,\"#de77ae\"],[0.3,\"#f1b6da\"],[0.4,\"#fde0ef\"],[0.5,\"#f7f7f7\"],[0.6,\"#e6f5d0\"],[0.7,\"#b8e186\"],[0.8,\"#7fbc41\"],[0.9,\"#4d9221\"],[1,\"#276419\"]],\"sequential\":[[0.0,\"#0d0887\"],[0.1111111111111111,\"#46039f\"],[0.2222222222222222,\"#7201a8\"],[0.3333333333333333,\"#9c179e\"],[0.4444444444444444,\"#bd3786\"],[0.5555555555555556,\"#d8576b\"],[0.6666666666666666,\"#ed7953\"],[0.7777777777777778,\"#fb9f3a\"],[0.8888888888888888,\"#fdca26\"],[1.0,\"#f0f921\"]],\"sequentialminus\":[[0.0,\"#0d0887\"],[0.1111111111111111,\"#46039f\"],[0.2222222222222222,\"#7201a8\"],[0.3333333333333333,\"#9c179e\"],[0.4444444444444444,\"#bd3786\"],[0.5555555555555556,\"#d8576b\"],[0.6666666666666666,\"#ed7953\"],[0.7777777777777778,\"#fb9f3a\"],[0.8888888888888888,\"#fdca26\"],[1.0,\"#f0f921\"]]},\"colorway\":[\"#636efa\",\"#EF553B\",\"#00cc96\",\"#ab63fa\",\"#FFA15A\",\"#19d3f3\",\"#FF6692\",\"#B6E880\",\"#FF97FF\",\"#FECB52\"],\"font\":{\"color\":\"#2a3f5f\"},\"geo\":{\"bgcolor\":\"white\",\"lakecolor\":\"white\",\"landcolor\":\"#E5ECF6\",\"showlakes\":true,\"showland\":true,\"subunitcolor\":\"white\"},\"hoverlabel\":{\"align\":\"left\"},\"hovermode\":\"closest\",\"mapbox\":{\"style\":\"light\"},\"paper_bgcolor\":\"white\",\"plot_bgcolor\":\"#E5ECF6\",\"polar\":{\"angularaxis\":{\"gridcolor\":\"white\",\"linecolor\":\"white\",\"ticks\":\"\"},\"bgcolor\":\"#E5ECF6\",\"radialaxis\":{\"gridcolor\":\"white\",\"linecolor\":\"white\",\"ticks\":\"\"}},\"scene\":{\"xaxis\":{\"backgroundcolor\":\"#E5ECF6\",\"gridcolor\":\"white\",\"gridwidth\":2,\"linecolor\":\"white\",\"showbackground\":true,\"ticks\":\"\",\"zerolinecolor\":\"white\"},\"yaxis\":{\"backgroundcolor\":\"#E5ECF6\",\"gridcolor\":\"white\",\"gridwidth\":2,\"linecolor\":\"white\",\"showbackground\":true,\"ticks\":\"\",\"zerolinecolor\":\"white\"},\"zaxis\":{\"backgroundcolor\":\"#E5ECF6\",\"gridcolor\":\"white\",\"gridwidth\":2,\"linecolor\":\"white\",\"showbackground\":true,\"ticks\":\"\",\"zerolinecolor\":\"white\"}},\"shapedefaults\":{\"line\":{\"color\":\"#2a3f5f\"}},\"ternary\":{\"aaxis\":{\"gridcolor\":\"white\",\"linecolor\":\"white\",\"ticks\":\"\"},\"baxis\":{\"gridcolor\":\"white\",\"linecolor\":\"white\",\"ticks\":\"\"},\"bgcolor\":\"#E5ECF6\",\"caxis\":{\"gridcolor\":\"white\",\"linecolor\":\"white\",\"ticks\":\"\"}},\"title\":{\"x\":0.05},\"xaxis\":{\"automargin\":true,\"gridcolor\":\"white\",\"linecolor\":\"white\",\"ticks\":\"\",\"title\":{\"standoff\":15},\"zerolinecolor\":\"white\",\"zerolinewidth\":2},\"yaxis\":{\"automargin\":true,\"gridcolor\":\"white\",\"linecolor\":\"white\",\"ticks\":\"\",\"title\":{\"standoff\":15},\"zerolinecolor\":\"white\",\"zerolinewidth\":2}}},\"xaxis\":{\"anchor\":\"y\",\"domain\":[0.0,1.0],\"title\":{\"text\":\"Date\"}},\"yaxis\":{\"anchor\":\"x\",\"domain\":[0.0,1.0],\"title\":{\"text\":\"Federal Funds Target Rate\"}},\"legend\":{\"tracegroupgap\":0},\"title\":{\"text\":\"Federal Funds Target Rate Trend\"}},                        {\"responsive\": true}                    ).then(function(){\n",
       "                            \n",
       "var gd = document.getElementById('71ec6930-3de1-4f93-ba45-89cd7c09daa7');\n",
       "var x = new MutationObserver(function (mutations, observer) {{\n",
       "        var display = window.getComputedStyle(gd).display;\n",
       "        if (!display || display === 'none') {{\n",
       "            console.log([gd, 'removed!']);\n",
       "            Plotly.purge(gd);\n",
       "            observer.disconnect();\n",
       "        }}\n",
       "}});\n",
       "\n",
       "// Listen for the removal of the full notebook cells\n",
       "var notebookContainer = gd.closest('#notebook-container');\n",
       "if (notebookContainer) {{\n",
       "    x.observe(notebookContainer, {childList: true});\n",
       "}}\n",
       "\n",
       "// Listen for the clearing of the current output cell\n",
       "var outputEl = gd.closest('.output');\n",
       "if (outputEl) {{\n",
       "    x.observe(outputEl, {childList: true});\n",
       "}}\n",
       "\n",
       "                        })                };                });            </script>        </div>"
      ]
     },
     "metadata": {},
     "output_type": "display_data"
    }
   ],
   "source": [
    "import plotly.express as px\n",
    "\n",
    "fig = px.line(data_rmna, x=\"Date\", y=\"Federal Funds Target Rate\", title='Federal Funds Target Rate Trend')\n",
    "fig.show()"
   ]
  },
  {
   "cell_type": "markdown",
   "id": "5f16cf84",
   "metadata": {
    "papermill": {
     "duration": 0.022659,
     "end_time": "2022-01-13T14:08:36.124924",
     "exception": false,
     "start_time": "2022-01-13T14:08:36.102265",
     "status": "completed"
    },
    "tags": []
   },
   "source": [
    "# Federal Funds Target Rate Vs. Unemployment Rate\n",
    "Then let's have a look on how FF rate, unemployment rate, inflation rate work with each other."
   ]
  },
  {
   "cell_type": "code",
   "execution_count": 10,
   "id": "24154946",
   "metadata": {
    "execution": {
     "iopub.execute_input": "2022-01-13T14:08:36.174806Z",
     "iopub.status.busy": "2022-01-13T14:08:36.173798Z",
     "iopub.status.idle": "2022-01-13T14:08:36.433318Z",
     "shell.execute_reply": "2022-01-13T14:08:36.433904Z",
     "shell.execute_reply.started": "2022-01-13T14:07:12.695158Z"
    },
    "papermill": {
     "duration": 0.286145,
     "end_time": "2022-01-13T14:08:36.434094",
     "exception": false,
     "start_time": "2022-01-13T14:08:36.147949",
     "status": "completed"
    },
    "tags": []
   },
   "outputs": [
    {
     "data": {
      "text/plain": [
       "<AxesSubplot:xlabel='Date'>"
      ]
     },
     "execution_count": 10,
     "metadata": {},
     "output_type": "execute_result"
    },
    {
     "data": {
      "image/png": "[encoded data removed]",
      "text/plain": [
       "<Figure size 432x288 with 1 Axes>"
      ]
     },
     "metadata": {
      "needs_background": "light"
     },
     "output_type": "display_data"
    }
   ],
   "source": [
    "data['Date'] = data['Year'].map(str)+\"/\"+data['Month'].map(str)+\"/\"+data['Day'].map(str)\n",
    "data_index = data.set_index(\"Date\")\n",
    "data_kept = data_index[['Federal Funds Target Rate','Unemployment Rate','Inflation Rate']]\n",
    "data_kept.plot()"
   ]
  },
  {
   "cell_type": "markdown",
   "id": "1ea017f5",
   "metadata": {
    "papermill": {
     "duration": 0.024738,
     "end_time": "2022-01-13T14:08:36.484053",
     "exception": false,
     "start_time": "2022-01-13T14:08:36.459315",
     "status": "completed"
    },
    "tags": []
   },
   "source": [
    "# Conclusion on the chart\n",
    "Though it is not that clear, but we can still find some basic but interesting relationship:\n",
    "* Federal funds target rate & unemployment rate has a positive relation, so roughly speaking, lower interest rate can lower unemployment rate.\n",
    "* Federal funds target rate & inflation rate has a negtive relation, lower interest rate can increase inflation"
   ]
  },
  {
   "cell_type": "markdown",
   "id": "c1632d55",
   "metadata": {
    "papermill": {
     "duration": 0.024643,
     "end_time": "2022-01-13T14:08:36.533497",
     "exception": false,
     "start_time": "2022-01-13T14:08:36.508854",
     "status": "completed"
    },
    "tags": []
   },
   "source": [
    "# Financial Crisis 2008\n",
    "For people who worked in financial sectors, financial crisis started long before 2008, while for the public, it started on March 16 2008, when Bear Stearns, a 85 years old investment bank sold to JP Morgan at 2$ per share.<br>\n",
    "Let's look at what is the data looks like during that period. Let's specifically focus on 2007 and onwards data"
   ]
  },
  {
   "cell_type": "code",
   "execution_count": 11,
   "id": "01f13085",
   "metadata": {
    "execution": {
     "iopub.execute_input": "2022-01-13T14:08:36.586790Z",
     "iopub.status.busy": "2022-01-13T14:08:36.586102Z",
     "iopub.status.idle": "2022-01-13T14:08:36.676089Z",
     "shell.execute_reply": "2022-01-13T14:08:36.676628Z",
     "shell.execute_reply.started": "2022-01-13T14:07:12.949389Z"
    },
    "papermill": {
     "duration": 0.118184,
     "end_time": "2022-01-13T14:08:36.676804",
     "exception": false,
     "start_time": "2022-01-13T14:08:36.558620",
     "status": "completed"
    },
    "tags": []
   },
   "outputs": [
    {
     "data": {
      "text/html": [
       "<div>                            <div id=\"52525ca8-cb1a-4c17-8e5d-7ef163b4f2ce\" class=\"plotly-graph-div\" style=\"height:525px; width:100%;\"></div>            <script type=\"text/javascript\">                require([\"plotly\"], function(Plotly) {                    window.PLOTLYENV=window.PLOTLYENV || {};                                    if (document.getElementById(\"52525ca8-cb1a-4c17-8e5d-7ef163b4f2ce\")) {                    Plotly.newPlot(                        \"52525ca8-cb1a-4c17-8e5d-7ef163b4f2ce\",                        [{\"hovertemplate\":\"variable=Federal Funds Target Rate<br>Date=%{x}<br>value=%{y}<extra></extra>\",\"legendgroup\":\"Federal Funds Target Rate\",\"line\":{\"color\":\"#636efa\",\"dash\":\"solid\"},\"marker\":{\"symbol\":\"circle\"},\"mode\":\"lines\",\"name\":\"Federal Funds Target Rate\",\"orientation\":\"v\",\"showlegend\":true,\"x\":[\"2007/1/1\",\"2007/2/1\",\"2007/3/1\",\"2007/4/1\",\"2007/5/1\",\"2007/6/1\",\"2007/7/1\",\"2007/8/1\",\"2007/9/1\",\"2007/9/18\",\"2007/10/1\",\"2007/10/31\",\"2007/11/1\",\"2007/12/1\",\"2007/12/11\",\"2008/1/1\",\"2008/1/22\",\"2008/1/30\",\"2008/2/1\",\"2008/3/1\",\"2008/3/18\",\"2008/4/1\",\"2008/4/30\",\"2008/5/1\",\"2008/6/1\",\"2008/7/1\",\"2008/8/1\",\"2008/9/1\",\"2008/10/1\",\"2008/10/8\",\"2008/10/29\",\"2008/11/1\",\"2008/12/1\",\"2008/12/16\",\"2009/1/1\",\"2009/2/1\",\"2009/3/1\",\"2009/4/1\",\"2009/5/1\",\"2009/6/1\",\"2009/7/1\",\"2009/8/1\",\"2009/9/1\",\"2009/10/1\",\"2009/11/1\",\"2009/12/1\"],\"xaxis\":\"x\",\"y\":[5.25,5.25,5.25,5.25,5.25,5.25,5.25,5.25,5.25,4.75,4.75,4.5,4.5,4.5,4.25,4.25,3.5,3.0,3.0,3.0,2.25,2.25,2.0,2.0,2.0,2.0,2.0,2.0,2.0,1.5,1.0,1.0,1.0,1.0,1.0,1.0,1.0,1.0,1.0,1.0,1.0,1.0,1.0,1.0,1.0,1.0],\"yaxis\":\"y\",\"type\":\"scatter\"},{\"hovertemplate\":\"variable=Unemployment Rate<br>Date=%{x}<br>value=%{y}<extra></extra>\",\"legendgroup\":\"Unemployment Rate\",\"line\":{\"color\":\"#EF553B\",\"dash\":\"solid\"},\"marker\":{\"symbol\":\"circle\"},\"mode\":\"lines\",\"name\":\"Unemployment Rate\",\"orientation\":\"v\",\"showlegend\":true,\"x\":[\"2007/1/1\",\"2007/2/1\",\"2007/3/1\",\"2007/4/1\",\"2007/5/1\",\"2007/6/1\",\"2007/7/1\",\"2007/8/1\",\"2007/9/1\",\"2007/9/18\",\"2007/10/1\",\"2007/10/31\",\"2007/11/1\",\"2007/12/1\",\"2007/12/11\",\"2008/1/1\",\"2008/1/22\",\"2008/1/30\",\"2008/2/1\",\"2008/3/1\",\"2008/3/18\",\"2008/4/1\",\"2008/4/30\",\"2008/5/1\",\"2008/6/1\",\"2008/7/1\",\"2008/8/1\",\"2008/9/1\",\"2008/10/1\",\"2008/10/8\",\"2008/10/29\",\"2008/11/1\",\"2008/12/1\",\"2008/12/16\",\"2009/1/1\",\"2009/2/1\",\"2009/3/1\",\"2009/4/1\",\"2009/5/1\",\"2009/6/1\",\"2009/7/1\",\"2009/8/1\",\"2009/9/1\",\"2009/10/1\",\"2009/11/1\",\"2009/12/1\"],\"xaxis\":\"x\",\"y\":[4.6,4.5,4.4,4.5,4.4,4.6,4.7,4.6,4.7,4.7,4.7,4.7,4.7,5.0,5.0,5.0,5.0,5.0,4.9,5.1,5.1,5.0,5.0,5.4,5.6,5.8,6.1,6.1,6.5,6.5,6.5,6.8,7.3,7.3,7.8,8.3,8.7,9.0,9.4,9.5,9.5,9.6,9.8,10.0,9.9,9.9],\"yaxis\":\"y\",\"type\":\"scatter\"},{\"hovertemplate\":\"variable=Inflation Rate<br>Date=%{x}<br>value=%{y}<extra></extra>\",\"legendgroup\":\"Inflation Rate\",\"line\":{\"color\":\"#00cc96\",\"dash\":\"solid\"},\"marker\":{\"symbol\":\"circle\"},\"mode\":\"lines\",\"name\":\"Inflation Rate\",\"orientation\":\"v\",\"showlegend\":true,\"x\":[\"2007/1/1\",\"2007/2/1\",\"2007/3/1\",\"2007/4/1\",\"2007/5/1\",\"2007/6/1\",\"2007/7/1\",\"2007/8/1\",\"2007/9/1\",\"2007/9/18\",\"2007/10/1\",\"2007/10/31\",\"2007/11/1\",\"2007/12/1\",\"2007/12/11\",\"2008/1/1\",\"2008/1/22\",\"2008/1/30\",\"2008/2/1\",\"2008/3/1\",\"2008/3/18\",\"2008/4/1\",\"2008/4/30\",\"2008/5/1\",\"2008/6/1\",\"2008/7/1\",\"2008/8/1\",\"2008/9/1\",\"2008/10/1\",\"2008/10/8\",\"2008/10/29\",\"2008/11/1\",\"2008/12/1\",\"2008/12/16\",\"2009/1/1\",\"2009/2/1\",\"2009/3/1\",\"2009/4/1\",\"2009/5/1\",\"2009/6/1\",\"2009/7/1\",\"2009/8/1\",\"2009/9/1\",\"2009/10/1\",\"2009/11/1\",\"2009/12/1\"],\"xaxis\":\"x\",\"y\":[2.7,2.7,2.5,2.3,2.2,2.2,2.2,2.1,2.1,2.1,2.2,2.2,2.3,2.4,2.4,2.5,2.5,2.5,2.3,2.4,2.4,2.3,2.3,2.3,2.4,2.5,2.5,2.5,2.2,2.2,2.2,2.0,1.8,1.8,1.7,1.8,1.8,1.9,1.8,1.7,1.5,1.4,1.5,1.7,1.7,1.8],\"yaxis\":\"y\",\"type\":\"scatter\"}],                        {\"template\":{\"data\":{\"bar\":[{\"error_x\":{\"color\":\"#2a3f5f\"},\"error_y\":{\"color\":\"#2a3f5f\"},\"marker\":{\"line\":{\"color\":\"#E5ECF6\",\"width\":0.5},\"pattern\":{\"fillmode\":\"overlay\",\"size\":10,\"solidity\":0.2}},\"type\":\"bar\"}],\"barpolar\":[{\"marker\":{\"line\":{\"color\":\"#E5ECF6\",\"width\":0.5},\"pattern\":{\"fillmode\":\"overlay\",\"size\":10,\"solidity\":0.2}},\"type\":\"barpolar\"}],\"carpet\":[{\"aaxis\":{\"endlinecolor\":\"#2a3f5f\",\"gridcolor\":\"white\",\"linecolor\":\"white\",\"minorgridcolor\":\"white\",\"startlinecolor\":\"#2a3f5f\"},\"baxis\":{\"endlinecolor\":\"#2a3f5f\",\"gridcolor\":\"white\",\"linecolor\":\"white\",\"minorgridcolor\":\"white\",\"startlinecolor\":\"#2a3f5f\"},\"type\":\"carpet\"}],\"choropleth\":[{\"colorbar\":{\"outlinewidth\":0,\"ticks\":\"\"},\"type\":\"choropleth\"}],\"contour\":[{\"colorbar\":{\"outlinewidth\":0,\"ticks\":\"\"},\"colorscale\":[[0.0,\"#0d0887\"],[0.1111111111111111,\"#46039f\"],[0.2222222222222222,\"#7201a8\"],[0.3333333333333333,\"#9c179e\"],[0.4444444444444444,\"#bd3786\"],[0.5555555555555556,\"#d8576b\"],[0.6666666666666666,\"#ed7953\"],[0.7777777777777778,\"#fb9f3a\"],[0.8888888888888888,\"#fdca26\"],[1.0,\"#f0f921\"]],\"type\":\"contour\"}],\"contourcarpet\":[{\"colorbar\":{\"outlinewidth\":0,\"ticks\":\"\"},\"type\":\"contourcarpet\"}],\"heatmap\":[{\"colorbar\":{\"outlinewidth\":0,\"ticks\":\"\"},\"colorscale\":[[0.0,\"#0d0887\"],[0.1111111111111111,\"#46039f\"],[0.2222222222222222,\"#7201a8\"],[0.3333333333333333,\"#9c179e\"],[0.4444444444444444,\"#bd3786\"],[0.5555555555555556,\"#d8576b\"],[0.6666666666666666,\"#ed7953\"],[0.7777777777777778,\"#fb9f3a\"],[0.8888888888888888,\"#fdca26\"],[1.0,\"#f0f921\"]],\"type\":\"heatmap\"}],\"heatmapgl\":[{\"colorbar\":{\"outlinewidth\":0,\"ticks\":\"\"},\"colorscale\":[[0.0,\"#0d0887\"],[0.1111111111111111,\"#46039f\"],[0.2222222222222222,\"#7201a8\"],[0.3333333333333333,\"#9c179e\"],[0.4444444444444444,\"#bd3786\"],[0.5555555555555556,\"#d8576b\"],[0.6666666666666666,\"#ed7953\"],[0.7777777777777778,\"#fb9f3a\"],[0.8888888888888888,\"#fdca26\"],[1.0,\"#f0f921\"]],\"type\":\"heatmapgl\"}],\"histogram\":[{\"marker\":{\"pattern\":{\"fillmode\":\"overlay\",\"size\":10,\"solidity\":0.2}},\"type\":\"histogram\"}],\"histogram2d\":[{\"colorbar\":{\"outlinewidth\":0,\"ticks\":\"\"},\"colorscale\":[[0.0,\"#0d0887\"],[0.1111111111111111,\"#46039f\"],[0.2222222222222222,\"#7201a8\"],[0.3333333333333333,\"#9c179e\"],[0.4444444444444444,\"#bd3786\"],[0.5555555555555556,\"#d8576b\"],[0.6666666666666666,\"#ed7953\"],[0.7777777777777778,\"#fb9f3a\"],[0.8888888888888888,\"#fdca26\"],[1.0,\"#f0f921\"]],\"type\":\"histogram2d\"}],\"histogram2dcontour\":[{\"colorbar\":{\"outlinewidth\":0,\"ticks\":\"\"},\"colorscale\":[[0.0,\"#0d0887\"],[0.1111111111111111,\"#46039f\"],[0.2222222222222222,\"#7201a8\"],[0.3333333333333333,\"#9c179e\"],[0.4444444444444444,\"#bd3786\"],[0.5555555555555556,\"#d8576b\"],[0.6666666666666666,\"#ed7953\"],[0.7777777777777778,\"#fb9f3a\"],[0.8888888888888888,\"#fdca26\"],[1.0,\"#f0f921\"]],\"type\":\"histogram2dcontour\"}],\"mesh3d\":[{\"colorbar\":{\"outlinewidth\":0,\"ticks\":\"\"},\"type\":\"mesh3d\"}],\"parcoords\":[{\"line\":{\"colorbar\":{\"outlinewidth\":0,\"ticks\":\"\"}},\"type\":\"parcoords\"}],\"pie\":[{\"automargin\":true,\"type\":\"pie\"}],\"scatter\":[{\"marker\":{\"colorbar\":{\"outlinewidth\":0,\"ticks\":\"\"}},\"type\":\"scatter\"}],\"scatter3d\":[{\"line\":{\"colorbar\":{\"outlinewidth\":0,\"ticks\":\"\"}},\"marker\":{\"colorbar\":{\"outlinewidth\":0,\"ticks\":\"\"}},\"type\":\"scatter3d\"}],\"scattercarpet\":[{\"marker\":{\"colorbar\":{\"outlinewidth\":0,\"ticks\":\"\"}},\"type\":\"scattercarpet\"}],\"scattergeo\":[{\"marker\":{\"colorbar\":{\"outlinewidth\":0,\"ticks\":\"\"}},\"type\":\"scattergeo\"}],\"scattergl\":[{\"marker\":{\"colorbar\":{\"outlinewidth\":0,\"ticks\":\"\"}},\"type\":\"scattergl\"}],\"scattermapbox\":[{\"marker\":{\"colorbar\":{\"outlinewidth\":0,\"ticks\":\"\"}},\"type\":\"scattermapbox\"}],\"scatterpolar\":[{\"marker\":{\"colorbar\":{\"outlinewidth\":0,\"ticks\":\"\"}},\"type\":\"scatterpolar\"}],\"scatterpolargl\":[{\"marker\":{\"colorbar\":{\"outlinewidth\":0,\"ticks\":\"\"}},\"type\":\"scatterpolargl\"}],\"scatterternary\":[{\"marker\":{\"colorbar\":{\"outlinewidth\":0,\"ticks\":\"\"}},\"type\":\"scatterternary\"}],\"surface\":[{\"colorbar\":{\"outlinewidth\":0,\"ticks\":\"\"},\"colorscale\":[[0.0,\"#0d0887\"],[0.1111111111111111,\"#46039f\"],[0.2222222222222222,\"#7201a8\"],[0.3333333333333333,\"#9c179e\"],[0.4444444444444444,\"#bd3786\"],[0.5555555555555556,\"#d8576b\"],[0.6666666666666666,\"#ed7953\"],[0.7777777777777778,\"#fb9f3a\"],[0.8888888888888888,\"#fdca26\"],[1.0,\"#f0f921\"]],\"type\":\"surface\"}],\"table\":[{\"cells\":{\"fill\":{\"color\":\"#EBF0F8\"},\"line\":{\"color\":\"white\"}},\"header\":{\"fill\":{\"color\":\"#C8D4E3\"},\"line\":{\"color\":\"white\"}},\"type\":\"table\"}]},\"layout\":{\"annotationdefaults\":{\"arrowcolor\":\"#2a3f5f\",\"arrowhead\":0,\"arrowwidth\":1},\"autotypenumbers\":\"strict\",\"coloraxis\":{\"colorbar\":{\"outlinewidth\":0,\"ticks\":\"\"}},\"colorscale\":{\"diverging\":[[0,\"#8e0152\"],[0.1,\"#c51b7d\"],[0.2,\"#de77ae\"],[0.3,\"#f1b6da\"],[0.4,\"#fde0ef\"],[0.5,\"#f7f7f7\"],[0.6,\"#e6f5d0\"],[0.7,\"#b8e186\"],[0.8,\"#7fbc41\"],[0.9,\"#4d9221\"],[1,\"#276419\"]],\"sequential\":[[0.0,\"#0d0887\"],[0.1111111111111111,\"#46039f\"],[0.2222222222222222,\"#7201a8\"],[0.3333333333333333,\"#9c179e\"],[0.4444444444444444,\"#bd3786\"],[0.5555555555555556,\"#d8576b\"],[0.6666666666666666,\"#ed7953\"],[0.7777777777777778,\"#fb9f3a\"],[0.8888888888888888,\"#fdca26\"],[1.0,\"#f0f921\"]],\"sequentialminus\":[[0.0,\"#0d0887\"],[0.1111111111111111,\"#46039f\"],[0.2222222222222222,\"#7201a8\"],[0.3333333333333333,\"#9c179e\"],[0.4444444444444444,\"#bd3786\"],[0.5555555555555556,\"#d8576b\"],[0.6666666666666666,\"#ed7953\"],[0.7777777777777778,\"#fb9f3a\"],[0.8888888888888888,\"#fdca26\"],[1.0,\"#f0f921\"]]},\"colorway\":[\"#636efa\",\"#EF553B\",\"#00cc96\",\"#ab63fa\",\"#FFA15A\",\"#19d3f3\",\"#FF6692\",\"#B6E880\",\"#FF97FF\",\"#FECB52\"],\"font\":{\"color\":\"#2a3f5f\"},\"geo\":{\"bgcolor\":\"white\",\"lakecolor\":\"white\",\"landcolor\":\"#E5ECF6\",\"showlakes\":true,\"showland\":true,\"subunitcolor\":\"white\"},\"hoverlabel\":{\"align\":\"left\"},\"hovermode\":\"closest\",\"mapbox\":{\"style\":\"light\"},\"paper_bgcolor\":\"white\",\"plot_bgcolor\":\"#E5ECF6\",\"polar\":{\"angularaxis\":{\"gridcolor\":\"white\",\"linecolor\":\"white\",\"ticks\":\"\"},\"bgcolor\":\"#E5ECF6\",\"radialaxis\":{\"gridcolor\":\"white\",\"linecolor\":\"white\",\"ticks\":\"\"}},\"scene\":{\"xaxis\":{\"backgroundcolor\":\"#E5ECF6\",\"gridcolor\":\"white\",\"gridwidth\":2,\"linecolor\":\"white\",\"showbackground\":true,\"ticks\":\"\",\"zerolinecolor\":\"white\"},\"yaxis\":{\"backgroundcolor\":\"#E5ECF6\",\"gridcolor\":\"white\",\"gridwidth\":2,\"linecolor\":\"white\",\"showbackground\":true,\"ticks\":\"\",\"zerolinecolor\":\"white\"},\"zaxis\":{\"backgroundcolor\":\"#E5ECF6\",\"gridcolor\":\"white\",\"gridwidth\":2,\"linecolor\":\"white\",\"showbackground\":true,\"ticks\":\"\",\"zerolinecolor\":\"white\"}},\"shapedefaults\":{\"line\":{\"color\":\"#2a3f5f\"}},\"ternary\":{\"aaxis\":{\"gridcolor\":\"white\",\"linecolor\":\"white\",\"ticks\":\"\"},\"baxis\":{\"gridcolor\":\"white\",\"linecolor\":\"white\",\"ticks\":\"\"},\"bgcolor\":\"#E5ECF6\",\"caxis\":{\"gridcolor\":\"white\",\"linecolor\":\"white\",\"ticks\":\"\"}},\"title\":{\"x\":0.05},\"xaxis\":{\"automargin\":true,\"gridcolor\":\"white\",\"linecolor\":\"white\",\"ticks\":\"\",\"title\":{\"standoff\":15},\"zerolinecolor\":\"white\",\"zerolinewidth\":2},\"yaxis\":{\"automargin\":true,\"gridcolor\":\"white\",\"linecolor\":\"white\",\"ticks\":\"\",\"title\":{\"standoff\":15},\"zerolinecolor\":\"white\",\"zerolinewidth\":2}}},\"xaxis\":{\"anchor\":\"y\",\"domain\":[0.0,1.0],\"title\":{\"text\":\"Date\"}},\"yaxis\":{\"anchor\":\"x\",\"domain\":[0.0,1.0],\"title\":{\"text\":\"value\"}},\"legend\":{\"title\":{\"text\":\"variable\"},\"tracegroupgap\":0},\"title\":{\"text\":\"Macro data during financial crisis\"}},                        {\"responsive\": true}                    ).then(function(){\n",
       "                            \n",
       "var gd = document.getElementById('52525ca8-cb1a-4c17-8e5d-7ef163b4f2ce');\n",
       "var x = new MutationObserver(function (mutations, observer) {{\n",
       "        var display = window.getComputedStyle(gd).display;\n",
       "        if (!display || display === 'none') {{\n",
       "            console.log([gd, 'removed!']);\n",
       "            Plotly.purge(gd);\n",
       "            observer.disconnect();\n",
       "        }}\n",
       "}});\n",
       "\n",
       "// Listen for the removal of the full notebook cells\n",
       "var notebookContainer = gd.closest('#notebook-container');\n",
       "if (notebookContainer) {{\n",
       "    x.observe(notebookContainer, {childList: true});\n",
       "}}\n",
       "\n",
       "// Listen for the clearing of the current output cell\n",
       "var outputEl = gd.closest('.output');\n",
       "if (outputEl) {{\n",
       "    x.observe(outputEl, {childList: true});\n",
       "}}\n",
       "\n",
       "                        })                };                });            </script>        </div>"
      ]
     },
     "metadata": {},
     "output_type": "display_data"
    }
   ],
   "source": [
    "import plotly\n",
    "\n",
    "data_index_2007 = data[data.Year>=2007]\n",
    "data_index_2007 = data_index_2007[data_index_2007.Year<=2009]\n",
    "data_index_2007 = data_index_2007.set_index(\"Date\")\n",
    "data_kept_2007 = data_index_2007[['Federal Funds Target Rate','Unemployment Rate','Inflation Rate']]\n",
    "\n",
    "fig = px.line(data_kept_2007,title='Macro data during financial crisis')\n",
    "fig.show()"
   ]
  },
  {
   "cell_type": "markdown",
   "id": "a06fde18",
   "metadata": {
    "papermill": {
     "duration": 0.026523,
     "end_time": "2022-01-13T14:08:36.730124",
     "exception": false,
     "start_time": "2022-01-13T14:08:36.703601",
     "status": "completed"
    },
    "tags": []
   },
   "source": [
    "If you hover your mouse to March 18 2008, it shows the Federal Funds Target Rate is 2.25, which is really low, and it is going to be lower with the collapse of the next company - **Lehman Brothers**"
   ]
  }
 ],
 "metadata": {
  "kernelspec": {
   "display_name": "Python 3",
   "language": "python",
   "name": "python3"
  },
  "language_info": {
   "codemirror_mode": {
    "name": "ipython",
    "version": 3
   },
   "file_extension": ".py",
   "mimetype": "text/x-python",
   "name": "python",
   "nbconvert_exporter": "python",
   "pygments_lexer": "ipython3",
   "version": "3.10.8"
  },
  "papermill": {
   "default_parameters": {},
   "duration": 22.323441,
   "end_time": "2022-01-13T14:08:37.567678",
   "environment_variables": {},
   "exception": null,
   "input_path": "__notebook__.ipynb",
   "output_path": "__notebook__.ipynb",
   "parameters": {},
   "start_time": "2022-01-13T14:08:15.244237",
   "version": "2.3.3"
  },
  "vscode": {
   "interpreter": {
    "hash": "b0fa6594d8f4cbf19f97940f81e996739fb7646882a419484c72d19e05852a7e"
   }
  }
 },
 "nbformat": 4,
 "nbformat_minor": 5
}
